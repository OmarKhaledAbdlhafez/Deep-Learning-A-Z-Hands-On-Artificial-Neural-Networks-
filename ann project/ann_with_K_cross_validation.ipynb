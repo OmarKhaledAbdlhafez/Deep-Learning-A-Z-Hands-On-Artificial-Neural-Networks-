{
  "nbformat": 4,
  "nbformat_minor": 0,
  "metadata": {
    "colab": {
      "name": "ann with K cross validation.ipynb",
      "provenance": [],
      "authorship_tag": "ABX9TyOp0DJcEw1nK4tcOF8u7tip",
      "include_colab_link": true
    },
    "kernelspec": {
      "name": "python3",
      "display_name": "Python 3"
    },
    "accelerator": "GPU"
  },
  "cells": [
    {
      "cell_type": "markdown",
      "metadata": {
        "id": "view-in-github",
        "colab_type": "text"
      },
      "source": [
        "<a href=\"https://colab.research.google.com/github/OmarKhaledAbdlhafez/Deep-Learning-A-Z-Hands-On-Artificial-Neural-Networks-/blob/master/ann%20project/ann_with_K_cross_validation.ipynb\" target=\"_parent\"><img src=\"https://colab.research.google.com/assets/colab-badge.svg\" alt=\"Open In Colab\"/></a>"
      ]
    },
    {
      "cell_type": "code",
      "metadata": {
        "id": "T-9pf5UGfQNg",
        "colab_type": "code",
        "colab": {}
      },
      "source": [
        "import numpy as np \n",
        "import pandas as pd\n",
        "import matplotlib.pyplot as plt\n",
        "from sklearn.preprocessing import LabelEncoder, OneHotEncoder \n",
        "from sklearn.model_selection import train_test_split\n",
        "from sklearn.preprocessing import StandardScaler\n",
        "df= pd.read_csv('Churn_Modelling.csv')\n",
        "X=df.iloc[:,3:13]\n",
        "y= df.iloc[:,13]\n",
        "labelencoder_X_1 = LabelEncoder()\n",
        "X.iloc[:, 1] = labelencoder_X_1.fit_transform(X.iloc[:, 1])\n",
        "labelencoder_X_2 = LabelEncoder()\n",
        "X.iloc[:, 2] = labelencoder_X_2.fit_transform(X.iloc[:, 2])\n",
        "onehotencoder = OneHotEncoder()\n",
        "X = onehotencoder.fit_transform(X).todense()\n",
        "X = X[:, 1:]\n",
        "x_train, x_test, y_train, y_test = train_test_split(X, y, test_size = 0.2, random_state = 0)\n",
        "sc= StandardScaler()\n",
        "x_train= sc.fit_transform(x_train)\n",
        "x_test = sc.transform(x_test)"
      ],
      "execution_count": 0,
      "outputs": []
    },
    {
      "cell_type": "code",
      "metadata": {
        "id": "AXM8AuV7gXaa",
        "colab_type": "code",
        "colab": {
          "base_uri": "https://localhost:8080/",
          "height": 35
        },
        "outputId": "e90e1fd3-85f3-4f1c-be5a-16837630104c"
      },
      "source": [
        "from keras.wrappers.scikit_learn import KerasClassifier\n",
        "from sklearn.model_selection import cross_val_score\n",
        "from keras.models import Sequential\n",
        "from keras.layers import Dense"
      ],
      "execution_count": 3,
      "outputs": [
        {
          "output_type": "stream",
          "text": [
            "Using TensorFlow backend.\n"
          ],
          "name": "stderr"
        }
      ]
    },
    {
      "cell_type": "code",
      "metadata": {
        "id": "I2HXn5c7gkt9",
        "colab_type": "code",
        "colab": {}
      },
      "source": [
        "def build_model():\n",
        "    model = Sequential()\n",
        "    model.add(Dense(units = 6, kernel_initializer = 'uniform', activation = 'relu', input_dim = 16934))\n",
        "    model.add(Dense(units = 6, kernel_initializer = 'uniform', activation = 'relu'))\n",
        "    model.add(Dense(units = 1, kernel_initializer = 'uniform', activation = 'sigmoid'))\n",
        "    model.compile(optimizer = 'adam', loss = 'binary_crossentropy', metrics = ['accuracy'])\n",
        "    return model\n",
        "model = KerasClassifier(build_fn = build_model, batch_size = 10, epochs = 20)\n",
        "accuracies = cross_val_score(estimator = model, X = x_train, y = y_train, cv = 10, n_jobs = -1)\n",
        "mean = accuracies.mean()\n",
        "variance = accuracies.std()"
      ],
      "execution_count": 0,
      "outputs": []
    },
    {
      "cell_type": "code",
      "metadata": {
        "id": "aaLOA7tuhj5y",
        "colab_type": "code",
        "colab": {
          "base_uri": "https://localhost:8080/",
          "height": 35
        },
        "outputId": "f25cd692-1bd8-4bf0-e48b-783bbeb89e2c"
      },
      "source": [
        "print(mean)"
      ],
      "execution_count": 13,
      "outputs": [
        {
          "output_type": "stream",
          "text": [
            "0.743624997138977\n"
          ],
          "name": "stdout"
        }
      ]
    }
  ]
}